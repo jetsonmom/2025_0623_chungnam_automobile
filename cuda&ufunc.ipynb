{
  "nbformat": 4,
  "nbformat_minor": 0,
  "metadata": {
    "colab": {
      "private_outputs": true,
      "provenance": [],
      "gpuType": "T4",
      "authorship_tag": "ABX9TyOR7EzKl+uEnLJ12ebG2RBl",
      "include_colab_link": true
    },
    "kernelspec": {
      "name": "python3",
      "display_name": "Python 3"
    },
    "language_info": {
      "name": "python"
    },
    "accelerator": "GPU"
  },
  "cells": [
    {
      "cell_type": "markdown",
      "metadata": {
        "id": "view-in-github",
        "colab_type": "text"
      },
      "source": [
        "<a href=\"https://colab.research.google.com/github/jetsonmom/2025_0623_chungnam_automobile/blob/main/cuda%26ufunc.ipynb\" target=\"_parent\"><img src=\"https://colab.research.google.com/assets/colab-badge.svg\" alt=\"Open In Colab\"/></a>"
      ]
    },
    {
      "cell_type": "code",
      "source": [
        "!nvidia-smi"
      ],
      "metadata": {
        "id": "nVDHnEc0M6PE"
      },
      "execution_count": null,
      "outputs": []
    },
    {
      "cell_type": "code",
      "source": [
        "import numba\n",
        "from numba import cuda\n",
        "\n",
        "if cuda.is_available():\n",
        "  print(\"🎉 성공: Numba가 GPU를 성공적으로 인식했습니다!\")\n",
        "  print(\"이제 ufunc 등 모든 CUDA 코드를 실행할 수 있습니다.\")\n",
        "  print(\"-\" * 50)\n",
        "  # Numba가 인식한 GPU의 상세 정보를 출력합니다.\n",
        "  cuda.detect()\n",
        "else:\n",
        "  # 거의 발생하지 않겠지만, 만약을 위한 오류 메시지\n",
        "  print(\"오류: 아직 Numba가 GPU를 인식하지 못합니다. 런타임을 다시 초기화해보세요.\")"
      ],
      "metadata": {
        "id": "3mcu5mjhO8rx"
      },
      "execution_count": null,
      "outputs": []
    },
    {
      "cell_type": "code",
      "source": [
        "from numba import cuda\n",
        "\n",
        "if cuda.is_available():\n",
        "  print(\"성공! Numba가 GPU를 인식했습니다.\")\n",
        "  print(\"GPU 장치 정보:\")\n",
        "  cuda.detect()\n",
        "else:\n",
        "  print(\"오류: Numba가 GPU를 인식하지 못했습니다.\")"
      ],
      "metadata": {
        "id": "o4QDVUyMPZLn"
      },
      "execution_count": null,
      "outputs": []
    },
    {
      "cell_type": "code",
      "source": [
        "import numpy as np\n",
        "from numba import vectorize\n",
        "\n",
        "# ufunc 정의: 각 입력값(x)에 2를 곱하고 1을 더하는 함수\n",
        "# target='cuda' 옵션으로 이 함수를 GPU에서 실행하도록 지정합니다.\n",
        "@vectorize(['float32(float32)'], target='cuda')\n",
        "def add_two_and_one(x):\n",
        "  return x * 2 + 1\n",
        "\n",
        "# 0부터 9까지의 숫자로 배열 생성\n",
        "data = np.arange(10, dtype=np.float32)\n",
        "\n",
        "print(\"원본 데이터:\", data)\n",
        "\n",
        "# GPU에서 ufunc 실행\n",
        "result = add_two_and_one(data)\n",
        "\n",
        "print(\"GPU 연산 결과:\", result)"
      ],
      "metadata": {
        "id": "EVThQvTkPf2M"
      },
      "execution_count": null,
      "outputs": []
    },
    {
      "cell_type": "code",
      "execution_count": null,
      "metadata": {
        "id": "o47SPxCyGCWW"
      },
      "outputs": [],
      "source": [
        "## See: https://github.com/googlecolab/colabtools/issues/5081#issuecomment-2629611179\n",
        "!uv pip install -q --system numba-cuda==0.4.0\n",
        "from numba import config\n",
        "config.CUDA_ENABLE_PYNVJITLINK = 1\n",
        "config.CUDA_LOW_OCCUPANCY_WARNINGS = 0"
      ]
    },
    {
      "cell_type": "code",
      "source": [],
      "metadata": {
        "id": "s5Tub08jJrja"
      },
      "execution_count": null,
      "outputs": []
    },
    {
      "cell_type": "code",
      "source": [
        "import numba\n",
        "import numpy as np\n",
        "from numba import vectorize, jit, cuda\n",
        "print(\"Numpy version: \", np.__version__)\n",
        "print(\"numba version: \", numba.__version__)\n",
        "print(\"Cuda avilable\") if cuda.detect() else print(\"Cuda not avilable\")"
      ],
      "metadata": {
        "id": "2xM12X8yG7wl"
      },
      "execution_count": null,
      "outputs": []
    },
    {
      "cell_type": "markdown",
      "source": [
        "# Day 5: CUDA 파이썬을 이용한 자율주행 데이터 가속\n",
        "\n",
        "**과정 목표:** 지난 4일간 배운 자율주행 데이터 처리 알고리즘들을 GPU를 이용해 가속하는 방법을 배웁니다. Numba 라이브러리를 사용하여 Python으로 직접 CUDA 코드를 작성하고, 병렬 처리의 핵심 원리와 최적화 기법을 실습을 통해 익힙니다."
      ],
      "metadata": {
        "id": "mIpouIJWHH2d"
      }
    },
    {
      "cell_type": "markdown",
      "source": [
        "**과정 목표:** 지난 4일간 배운 자율주행 데이터 처리 알고리즘들을 GPU를 이용해 가속하는 방법을 배웁니다. Numba 라이브러리를 사용하여 Python으로 직접 CUDA 코드를 작성하고, 병렬 처리의 핵심 원리와 최적화 기법을 실습을 통해 익힙니다.\n",
        "---\n",
        "## Lab 1: Numba Ufunc, 프로파일링, 그리고 정밀도\n",
        "\n",
        "**실습 목표:**\n",
        "1. 간단한 이미지 처리 작업을 위한 GPU 범용 함수(ufunc)를 작성합니다.\n",
        "2. 데이터 크기에 따른 CPU와 GPU의 성능을 `%%timeit`으로 비교하여 메모리 전송 오버헤드를 확인합니다.\n",
        "3. `float32`와 `float64`의 정밀도 차이가 계산 결과에 미치는 영향을 직접 확인합니다.\n",
        "### 준비: 라이브러리 임포트 및 데이터 생성"
      ],
      "metadata": {
        "id": "v6EQblACHcLy"
      }
    },
    {
      "cell_type": "markdown",
      "source": [],
      "metadata": {
        "id": "ZtEB0v9ZHJhB"
      }
    },
    {
      "cell_type": "code",
      "source": [
        "import numpy as np\n",
        "from numba import vectorize, jit\n",
        "import time\n",
        "\n",
        "# 자율주행 카메라 이미지를 모방한 가상 데이터 생성\n",
        "def create_image(size_mb):\n",
        "    # 1 pixel = 1 byte (uint8)\n",
        "    num_pixels = size_mb * 1024 * 1024\n",
        "    # 이미지의 가로:세로 비율을 16:9로 가정\n",
        "    height = int(np.sqrt(num_pixels * 9 / 16))\n",
        "    width = int(height * 16 / 9)\n",
        "    print(f\"생성된 이미지 크기: {width}x{height} ({width*height/1024/1024:.2f} MB)\")\n",
        "    return np.random.randint(0, 256, size=(height, width), dtype=np.uint8)\n",
        "\n",
        "small_image = create_image(1)    # 약 1MB 크기 이미지\n",
        "large_image = create_image(100)  # 약 100MB 크기 이미지"
      ],
      "metadata": {
        "id": "i0qMYhtIHgsp"
      },
      "execution_count": null,
      "outputs": []
    },
    {
      "cell_type": "markdown",
      "source": [],
      "metadata": {
        "id": "mtCKL-0oIMWC"
      }
    },
    {
      "cell_type": "code",
      "source": [
        "# TODO: 아래 함수를 Numba의 @vectorize 데코레이터를 사용하여 GPU ufunc으로 변환하세요.\n",
        "# target을 'cuda'로 설정하는 것을 잊지 마세요.\n",
        "# 타입 시그니처: uint8를 입력받아 uint8를 반환 -> ['uint8(uint8, uint8)']\n",
        "\n",
        "from numba import vectorize, uint8, cuda\n",
        "\n",
        "@vectorize([uint8(uint8, uint8)], target='cuda')\n",
        "def gpu_threshold(pixel, threshold):\n",
        "    return 255 if pixel > threshold else 0\n",
        "\n",
        "# CPU 버전 (NumPy)\n",
        "def cpu_threshold_numpy(image, threshold):\n",
        "    return np.where(image > threshold, 255, 0).astype(np.uint8)"
      ],
      "metadata": {
        "id": "TeoYn3FlI71i"
      },
      "execution_count": null,
      "outputs": []
    },
    {
      "cell_type": "code",
      "source": [
        "print(\"--- 작은 이미지 (1MB) 성능 비교 ---\")\n",
        "print(\"CPU (NumPy):\")\n",
        "%timeit cpu_threshold_numpy(small_image, 128)\n",
        "\n",
        "print(\"\\nGPU (Numba ufunc):\")\n",
        "# 첫 실행은 컴파일 시간 포함\n",
        "_ = gpu_threshold(small_image, 128)\n",
        "%timeit gpu_threshold(small_image, 128)\n",
        "\n"
      ],
      "metadata": {
        "id": "OrKZPMrbJAGj"
      },
      "execution_count": null,
      "outputs": []
    },
    {
      "cell_type": "code",
      "source": [
        "print(\"--- 큰 이미지 (100MB) 성능 비교 ---\")\n",
        "print(\"CPU (NumPy):\")\n",
        "%timeit cpu_threshold_numpy(large_image, 128)\n",
        "\n",
        "print(\"\\nGPU (Numba ufunc):\")\n",
        "_ = gpu_threshold(large_image, 128)\n",
        "%timeit gpu_threshold(large_image, 128)"
      ],
      "metadata": {
        "id": "gSo5oMjCJDJp"
      },
      "execution_count": null,
      "outputs": []
    },
    {
      "cell_type": "code",
      "source": [
        "import numpy as np\n",
        "from numba import vectorize\n",
        "\n",
        "# Corrected version to demonstrate precision loss\n",
        "@vectorize(['float32(float32)'], target='cuda')\n",
        "def precision_test_f32_corrected(x):\n",
        "    # Force the literal '1.0' to be a 32-bit float\n",
        "    one_f32 = np.float32(1.0)\n",
        "    return (one_f32 + x) - one_f32\n",
        "\n",
        "@vectorize(['float64(float64)'], target='cuda')\n",
        "def precision_test_f64(x):\n",
        "    # For float64, using a Python literal is fine as it's already 64-bit\n",
        "    return (1.0 + x) - 1.0\n",
        "\n",
        "# Using a value that WILL be lost in float32 but not float64\n",
        "# float32 machine epsilon is ~1.19e-7. 1e-8 is smaller than that.\n",
        "val = 1e-8\n",
        "x_f32 = np.array([val], dtype=np.float32)\n",
        "x_f64 = np.array([val], dtype=np.float64)\n",
        "\n",
        "# Run the corrected f32 version and the f64 version\n",
        "result_f32 = precision_test_f32_corrected(x_f32)\n",
        "result_f64 = precision_test_f64(x_f64)\n",
        "\n",
        "print(f\"입력 값: {val}\")\n",
        "print(f\"Corrected Float32 결과: {result_f32[0]}\")\n",
        "print(f\"Float64 결과: {result_f64[0]}\")"
      ],
      "metadata": {
        "id": "QDDmFnKfJG5y"
      },
      "execution_count": null,
      "outputs": []
    }
  ]
}