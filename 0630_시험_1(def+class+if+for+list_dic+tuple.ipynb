{
  "nbformat": 4,
  "nbformat_minor": 0,
  "metadata": {
    "colab": {
      "private_outputs": true,
      "provenance": [],
      "authorship_tag": "ABX9TyNjl7svsjcL/AZDiIWH4iVU",
      "include_colab_link": true
    },
    "kernelspec": {
      "name": "python3",
      "display_name": "Python 3"
    },
    "language_info": {
      "name": "python"
    }
  },
  "cells": [
    {
      "cell_type": "markdown",
      "metadata": {
        "id": "view-in-github",
        "colab_type": "text"
      },
      "source": [
        "<a href=\"https://colab.research.google.com/github/jetsonmom/2025_0623_chungnam_automobile/blob/main/0630_%EC%8B%9C%ED%97%98_1(def%2Bclass%2Bif%2Bfor%2Blist_dic%2Btuple.ipynb\" target=\"_parent\"><img src=\"https://colab.research.google.com/assets/colab-badge.svg\" alt=\"Open In Colab\"/></a>"
      ]
    },
    {
      "cell_type": "markdown",
      "source": [
        "1번 문제. https://claude.ai/public/artifacts/32d909a3-baf9-415d-8c7f-88665d73cffe"
      ],
      "metadata": {
        "id": "u8WMOUn_POQw"
      }
    },
    {
      "cell_type": "code",
      "execution_count": null,
      "metadata": {
        "id": "k8RlfE1YO1hl"
      },
      "outputs": [],
      "source": [
        "# 센서 데이터 (거리 측정값, 단위: 미터)\n",
        "sensors = {\n",
        "    \"앞\": 8.0,\n",
        "    \"왼쪽\": 15.0,\n",
        "    \"오른쪽\": 4.0\n",
        "}\n",
        "# 안전 거리 설정\n",
        "safe_distance = 10.0\n",
        "print(\"🚗 자율주행 장애물 감지 시스템\")\n",
        "print(\"-\" * 30)\n",
        "# 장애물 감지\n",
        "obstacles = []\n",
        "for direction, distance in sensors.items():\n",
        "    if distance < safe_distance:\n",
        "        obstacles.append(direction)\n",
        "print(f\"\\n🚨 감지된 장애물: {obstacles}\")\n"
      ]
    },
    {
      "cell_type": "markdown",
      "source": [
        "2번 문제 링크 텍스트.\n",
        "https://claude.ai/public/artifacts/4a4b8c6f-b910-4886-848a-df0a972fcec4"
      ],
      "metadata": {
        "id": "1-PrmjiVPSD-"
      }
    },
    {
      "cell_type": "code",
      "source": [
        "# 센서 데이터 (거리 측정값, 단위: 미터)\n",
        "sensors = {\n",
        "    \"앞\": 8.0,\n",
        "    \"왼쪽\": 15.0,\n",
        "    \"오른쪽\": 4.0\n",
        "}\n",
        "# 안전 거리 설정\n",
        "safe_distance = 10.0\n",
        "print(\"🚗 자율주행 장애물 감지 시스템\")\n",
        "print(\"-\" * 30)\n",
        "# 장애물 감지\n",
        "obstacles = []\n",
        "for direction, distance in sensors.items():\n",
        "    if distance < safe_distance:\n",
        "        obstacles.append(direction)\n",
        "print(f\"\\n🚨 감지된 장애물: {obstacles}\")\n",
        "# 행동 결정\n",
        "if len(obstacles) == 0:\n",
        "    action = \"직진\"\n",
        "elif \"앞\" in obstacles:\n",
        "    if \"왼쪽\" not in obstacles:\n",
        "        action = \"좌회전\"\n",
        "    elif \"오른쪽\" not in obstacles:\n",
        "        action = \"우회전\"\n",
        "    else:\n",
        "        action = \"정지\"\n",
        "else:\n",
        "    action = \"주의해서 직진\"\n",
        "print(f\"🎯 결정된 행동: {action}\")"
      ],
      "metadata": {
        "id": "C-VVTT6-PSm3"
      },
      "execution_count": null,
      "outputs": []
    },
    {
      "cell_type": "markdown",
      "source": [
        "3-1번 문제. 배운 내용 다 들어감.  https://claude.ai/public/artifacts/a8b14a09-9af9-4d88-9623-e1128c72d5a1"
      ],
      "metadata": {
        "id": "iFTjMY7mPaHo"
      }
    },
    {
      "cell_type": "code",
      "source": [
        "# 자율주행 시뮬레이션 - 간단한 예제\n",
        "\n",
        "class AutonomousCar:\n",
        "    def create_car(self, name, x, y):\n",
        "        \"\"\"자동차 생성\"\"\"\n",
        "        self.name = name\n",
        "        self.position = {\"x\": x, \"y\": y}\n",
        "        self.speed = 0\n",
        "        self.sensors = {\"front\": 0, \"left\": 0, \"right\": 0}\n",
        "\n",
        "    def move_forward(self):\n",
        "        \"\"\"전진\"\"\"\n",
        "        self.position[\"y\"] += 1\n",
        "        print(f\"{self.name}이(가) 전진합니다. 위치: ({self.position['x']}, {self.position['y']})\")\n",
        "\n",
        "    def turn_left(self):\n",
        "        \"\"\"좌회전\"\"\"\n",
        "        self.position[\"x\"] -= 1\n",
        "        print(f\"{self.name}이(가) 좌회전합니다. 위치: ({self.position['x']}, {self.position['y']})\")\n",
        "\n",
        "    def turn_right(self):\n",
        "        \"\"\"우회전\"\"\"\n",
        "        self.position[\"x\"] += 1\n",
        "        print(f\"{self.name}이(가) 우회전합니다. 위치: ({self.position['x']}, {self.position['y']})\")\n",
        "\n",
        "    def scan_environment(self, obstacles):\n",
        "        \"\"\"주변 장애물 감지\"\"\"\n",
        "        for obstacle in obstacles:\n",
        "            if obstacle[\"x\"] == self.position[\"x\"] and obstacle[\"y\"] == self.position[\"y\"] + 1:\n",
        "                self.sensors[\"front\"] = 1\n",
        "            else:\n",
        "                self.sensors[\"front\"] = 0\n",
        "\n",
        "        print(f\"센서 상태: {self.sensors}\")\n",
        "\n",
        "    def auto_drive(self, obstacles):\n",
        "        \"\"\"자율주행 로직\"\"\"\n",
        "        self.scan_environment(obstacles)\n",
        "\n",
        "        if self.sensors[\"front\"] == 1:\n",
        "            print(\"앞에 장애물 감지! 우회전합니다.\")\n",
        "            self.turn_right()\n",
        "        else:\n",
        "            self.move_forward()\n",
        "\n",
        "# 시뮬레이션 실행\n",
        "print(\"=== 자율주행 시뮬레이션 시작 ===\")\n",
        "\n",
        "# 자동차 생성\n",
        "car = AutonomousCar()\n",
        "car.create_car(\"테슬라\", 0, 0)\n",
        "\n",
        "# 장애물 리스트 (딕셔너리로 위치 저장)\n",
        "obstacles = [\n",
        "    {\"x\": 0, \"y\": 2},\n",
        "    {\"x\": 1, \"y\": 3},\n",
        "    {\"x\": 2, \"y\": 4}\n",
        "]\n",
        "\n",
        "print(f\"장애물 위치: {obstacles}\")\n",
        "print()\n",
        "\n",
        "# 자율주행 실행 (5단계)\n",
        "for step in range(1, 6):\n",
        "    print(f\"--- 단계 {step} ---\")\n",
        "    car.auto_drive(obstacles)\n",
        "    print()\n",
        "\n",
        "print(\"시뮬레이션 완료!\")"
      ],
      "metadata": {
        "id": "XPzgpUulPas7"
      },
      "execution_count": null,
      "outputs": []
    },
    {
      "cell_type": "markdown",
      "source": [
        "3-2번 https://claude.ai/public/artifacts/88eee3ac-0499-41ad-b87e-64e7e71aa769"
      ],
      "metadata": {
        "id": "ndTo4BB3Phx-"
      }
    },
    {
      "cell_type": "code",
      "source": [
        "# 센서 데이터 (거리 측정값, 단위: 미터)\n",
        "sensors = {\n",
        "    \"앞\": 8.0,\n",
        "    \"왼쪽\": 15.0,\n",
        "    \"오른쪽\": 4.0,\n",
        "    \"뒤\": 12.0  # 후방 센서 추가\n",
        "}\n",
        "# 안전 거리 설정\n",
        "safe_distance = 10.0\n",
        "# 차량 정보\n",
        "car_info = {\"속도\": 50, \"연료\": 85}\n",
        "print(\"🚗 자율주행 장애물 감지 시스템\")\n",
        "print(\"-\" * 40)\n",
        "# 위험도 계산 함수\n",
        "def get_risk_level(distance):\n",
        "    if distance < safe_distance:\n",
        "        return \"⚠️ 위험\"\n",
        "    else:\n",
        "        return \"✅ 안전\"\n",
        "# 각 방향별 상태 출력\n",
        "print(\"📡 센서 상태:\")\n",
        "risk_areas = []  # 위험 지역 리스트\n",
        "for direction, distance in sensors.items():\n",
        "    risk = get_risk_level(distance)\n",
        "    print(f\"{direction}: {distance}m {risk}\")\n",
        "        # 위험한 곳만 따로 저장\n",
        "    if \"위험\" in risk:\n",
        "        risk_areas.append(direction)\n",
        "print(f\"\\n🚨 위험 감지: {risk_areas}\")\n",
        "\n",
        "# 최소 거리로 속도 조절\n",
        "min_distance = min(sensors.values())\n",
        "if min_distance < safe_distance:\n",
        "    new_speed = car_info[\"속도\"] // 2  # 반으로 감속\n",
        "else:\n",
        "    new_speed = car_info[\"속도\"]  # 유지\n",
        "print(f\"🏃 속도: {car_info['속도']}km/h → {new_speed}km/h\")\n",
        "# 고급 행동 결정\n",
        "if not risk_areas:\n",
        "    action = \"직진\"\n",
        "elif \"앞\" in risk_areas:\n",
        "    # 좌우 중 더 안전한 쪽 선택\n",
        "    if \"왼쪽\" not in risk_areas and \"오른쪽\" not in risk_areas:\n",
        "        if sensors[\"왼쪽\"] > sensors[\"오른쪽\"]:\n",
        "            action = \"좌회전\"\n",
        "        else:\n",
        "            action = \"우회전\"\n",
        "    elif \"왼쪽\" not in risk_areas:\n",
        "        action = \"좌회전\"\n",
        "    elif \"오른쪽\" not in risk_areas:\n",
        "        action = \"우회전\"\n",
        "    else:\n",
        "        action = \"긴급정지\"\n",
        "else:\n",
        "    action = \"주의운전\"\n",
        "print(f\"🎯 결정된 행동: {action}\")"
      ],
      "metadata": {
        "id": "NHsiyRgCPiTW"
      },
      "execution_count": null,
      "outputs": []
    },
    {
      "cell_type": "markdown",
      "source": [
        "3-2번 마지막에 추가해도 좋은 코드_1"
      ],
      "metadata": {
        "id": "6zHWV3ESP1gX"
      }
    },
    {
      "cell_type": "code",
      "source": [
        "# 숫자로 위험도 계산해서 행동 결정\n",
        "danger_score = 0\n",
        "if \"앞\" in risk_areas:\n",
        "    danger_score += 10\n",
        "if \"왼쪽\" in risk_areas:\n",
        "    danger_score += 5\n",
        "if \"오른쪽\" in risk_areas:\n",
        "    danger_score += 5\n",
        "if \"뒤\" in risk_areas:\n",
        "    danger_score += 1\n",
        "\n",
        "actions = [\"직진\", \"주의운전\", \"좌회전\", \"우회전\", \"긴급정지\"]\n",
        "action_index = min(danger_score // 3, len(actions) - 1)\n",
        "action = actions[action_index]\n",
        "\n",
        "print(f\"🎯 결정된 행동: {action}\")"
      ],
      "metadata": {
        "id": "as0GB9GyP19l"
      },
      "execution_count": null,
      "outputs": []
    },
    {
      "cell_type": "markdown",
      "source": [
        "1️⃣ 3-2번 마지막에 추가해도 좋은 코드_2   while문 + break 사용 고급행동결정 if 문장"
      ],
      "metadata": {
        "id": "B0UANTD-QAJ9"
      }
    },
    {
      "cell_type": "code",
      "source": [
        "# 고급 행동 결정\n",
        "if not risk_areas:\n",
        "    action = \"직진\"\n",
        "elif \"앞\" in risk_areas:\n",
        "    # 좌우 중 더 안전한 쪽 선택\n",
        "    if \"왼쪽\" not in risk_areas and \"오른쪽\" not in risk_areas:\n",
        "        if sensors[\"왼쪽\"] > sensors[\"오른쪽\"]:\n",
        "            action = \"좌회전\"\n",
        "        else:\n",
        "            action = \"우회전\"\n",
        "    elif \"왼쪽\" not in risk_areas:\n",
        "        action = \"좌회전\"\n",
        "    elif \"오른쪽\" not in risk_areas:\n",
        "        action = \"우회전\"\n",
        "    else:\n",
        "        action = \"긴급정지\"\n",
        "else:\n",
        "    action = \"주의운전\"\n",
        "\n",
        "print(f\"🎯 결정된 행동: {action}\")\n"
      ],
      "metadata": {
        "id": "ffQDmrp5QGQ7"
      },
      "execution_count": null,
      "outputs": []
    },
    {
      "cell_type": "markdown",
      "source": [
        "2️⃣ 딕셔너리 + 함수 사용 고급행동결정\n",
        "3번 마지막에 추가해도 좋은 코드_3"
      ],
      "metadata": {
        "id": "VKVIwcZGQKGx"
      }
    },
    {
      "cell_type": "code",
      "source": [
        "# while문으로 행동 결정\n",
        "action = \"\"\n",
        "step = 1\n",
        "\n",
        "while step <= 3:\n",
        "    if step == 1 and not risk_areas:\n",
        "        action = \"직진\"\n",
        "        break\n",
        "    elif step == 2 and \"앞\" in risk_areas:\n",
        "        if \"왼쪽\" not in risk_areas:\n",
        "            action = \"좌회전\"\n",
        "        elif \"오른쪽\" not in risk_areas:\n",
        "            action = \"우회전\"\n",
        "        else:\n",
        "            action = \"긴급정지\"\n",
        "        break\n",
        "    elif step == 3:\n",
        "        action = \"주의운전\"\n",
        "        break\n",
        "    step += 1\n",
        "\n",
        "print(f\"🎯 결정된 행동: {action}\")"
      ],
      "metadata": {
        "id": "3MfnMmdSQKxi"
      },
      "execution_count": null,
      "outputs": []
    }
  ]
}