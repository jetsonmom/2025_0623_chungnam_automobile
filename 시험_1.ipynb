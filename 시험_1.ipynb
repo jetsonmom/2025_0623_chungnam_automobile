{
  "nbformat": 4,
  "nbformat_minor": 0,
  "metadata": {
    "colab": {
      "private_outputs": true,
      "provenance": [],
      "authorship_tag": "ABX9TyPSCZGliHTWs5bebEbm9NEE",
      "include_colab_link": true
    },
    "kernelspec": {
      "name": "python3",
      "display_name": "Python 3"
    },
    "language_info": {
      "name": "python"
    }
  },
  "cells": [
    {
      "cell_type": "markdown",
      "metadata": {
        "id": "view-in-github",
        "colab_type": "text"
      },
      "source": [
        "<a href=\"https://colab.research.google.com/github/jetsonmom/2025_0623_chungnam_automobile/blob/main/%EC%8B%9C%ED%97%98_1.ipynb\" target=\"_parent\"><img src=\"https://colab.research.google.com/assets/colab-badge.svg\" alt=\"Open In Colab\"/></a>"
      ]
    },
    {
      "cell_type": "markdown",
      "source": [
        "1-번.   \n",
        "https://claude.ai/public/artifacts/4a4b8c6f-b910-4886-848a-df0a972fcec4\n"
      ],
      "metadata": {
        "id": "a66eOPy1CyzT"
      }
    },
    {
      "cell_type": "code",
      "source": [
        "# 센서 데이터 (거리 측정값, 단위: 미터)\n",
        "sensors = {\n",
        "    \"앞\": 8.0,\n",
        "    \"왼쪽\": 15.0,\n",
        "    \"오른쪽\": 4.0\n",
        "}\n",
        "# 안전 거리 설정\n",
        "safe_distance = 10.0\n",
        "print(\"🚗 자율주행 장애물 감지 시스템\")\n",
        "print(\"-\" * 30)\n",
        "# 장애물 감지\n",
        "obstacles = []\n",
        "for direction, distance in sensors.items():\n",
        "    if distance < safe_distance:\n",
        "        obstacles.append(direction)\n",
        "print(f\"\\n🚨 감지된 장애물: {obstacles}\")\n",
        "# 행동 결정\n",
        "if len(obstacles) == 0:\n",
        "    action = \"직진\"\n",
        "elif \"앞\" in obstacles:\n",
        "    if \"왼쪽\" not in obstacles:\n",
        "        action = \"좌회전\"\n",
        "    elif \"오른쪽\" not in obstacles:\n",
        "        action = \"우회전\"\n",
        "    else:\n",
        "        action = \"정지\"\n",
        "else:\n",
        "    action = \"주의해서 직진\"\n",
        "print(f\"🎯 결정된 행동: {action}\")"
      ],
      "metadata": {
        "id": "jAFXfsd_Z2v1"
      },
      "execution_count": null,
      "outputs": []
    },
    {
      "cell_type": "markdown",
      "source": [
        "1-2번.1-1번에 # 각 방향별 상태 출력을 for문으로 추가\n",
        "https://claude.ai/public/artifacts/7ca75e3e-3f97-4753-b5b1-b350f24101eb"
      ],
      "metadata": {
        "id": "2WjLTCGhDSRc"
      }
    },
    {
      "cell_type": "code",
      "source": [
        "sensors = {\n",
        "    \"앞\": 8.0,\n",
        "    \"왼쪽\": 15.0,\n",
        "    \"오른쪽\": 4.0\n",
        "}\n",
        "# 안전 거리 설정\n",
        "safe_distance = 10.0\n",
        "print(\"🚗 자율주행 장애물 감지 시스템\")\n",
        "print(\"-\" * 30)\n",
        "\n",
        "# 각 방향별 상태 출력\n",
        "for direction, distance in sensors.items():\n",
        "    if distance >= safe_distance:\n",
        "        status = \"✅ 안전\"\n",
        "    else:\n",
        "        status = \"⚠️ 위험\"\n",
        "    print(f\"{direction}: {distance}m {status}\")\n",
        "\n",
        "# 장애물 감지\n",
        "obstacles = []\n",
        "for direction, distance in sensors.items():\n",
        "    if distance < safe_distance:\n",
        "        obstacles.append(direction)\n",
        "\n",
        "print(f\"\\n🚨 감지된 장애물: {obstacles}\")\n",
        "\n",
        "# 행동 결정\n",
        "if len(obstacles) == 0:\n",
        "    action = \"직진\"\n",
        "elif \"앞\" in obstacles:\n",
        "    if \"왼쪽\" not in obstacles:\n",
        "        action = \"좌회전\"\n",
        "    elif \"오른쪽\" not in obstacles:\n",
        "        action = \"우회전\"\n",
        "    else:\n",
        "        action = \"정지\"\n",
        "else:\n",
        "    action = \"주의해서 직진\"\n",
        "\n",
        "print(f\"🎯 결정된 행동: {action}\")"
      ],
      "metadata": {
        "id": "7Gd5u_RNCDzS"
      },
      "execution_count": null,
      "outputs": []
    },
    {
      "cell_type": "markdown",
      "source": [
        "2번 문제\n",
        "https://claude.ai/public/artifacts/c5f22dad-0546-43ff-8dd5-4a70b3b6d971"
      ],
      "metadata": {
        "id": "WuN34T-q6fTB"
      }
    },
    {
      "cell_type": "code",
      "source": [
        "# 센서 데이터 (거리 측정값, 단위: 미터)\n",
        "sensors = {\n",
        "    \"앞\": 8.0,\n",
        "    \"왼쪽\": 15.0,\n",
        "    \"오른쪽\": 4.0,\n",
        "    \"뒤\": 12.0  # 후방 센서 추가\n",
        "}\n",
        "# 안전 거리 설정\n",
        "safe_distance = 10.0\n",
        "# 차량 정보\n",
        "car_info = {\"속도\": 50, \"연료\": 85}\n",
        "print(\"🚗 자율주행 장애물 감지 시스템\")\n",
        "print(\"-\" * 40)\n",
        "# 위험도 계산 함수\n",
        "def get_risk_level(distance):\n",
        "    if distance < safe_distance:\n",
        "        return \"⚠️ 위험\"\n",
        "    else:\n",
        "        return \"✅ 안전\"\n",
        "# 각 방향별 상태 출력\n",
        "print(\"📡 센서 상태:\")\n",
        "risk_areas = []  # 위험 지역 리스트\n",
        "for direction, distance in sensors.items():\n",
        "    risk = get_risk_level(distance)\n",
        "    print(f\"{direction}: {distance}m {risk}\")\n",
        "\n",
        "    # 위험한 곳만 따로 저장\n",
        "    if \"위험\" in risk:\n",
        "        risk_areas.append(direction)\n",
        "print(f\"\\n🚨 위험 감지: {risk_areas}\")\n",
        "# 최소 거리로 속도 조절\n",
        "min_distance = min(sensors.values())\n",
        "if min_distance < safe_distance:\n",
        "    new_speed = car_info[\"속도\"] // 2  # 반으로 감속\n",
        "else:\n",
        "    new_speed = car_info[\"속도\"]  # 유지\n",
        "print(f\"🏃 속도: {car_info['속도']}km/h → {new_speed}km/h\")"
      ],
      "metadata": {
        "id": "yhQSd-Vi808y"
      },
      "execution_count": null,
      "outputs": []
    },
    {
      "cell_type": "markdown",
      "source": [
        "3번\n",
        "https://claude.ai/public/artifacts/88eee3ac-0499-41ad-b87e-64e7e71aa769"
      ],
      "metadata": {
        "id": "RRDP9v2b82h0"
      }
    },
    {
      "cell_type": "code",
      "source": [
        "# 센서 데이터 (거리 측정값, 단위: 미터)\n",
        "sensors = {\n",
        "    \"앞\": 8.0,\n",
        "    \"왼쪽\": 15.0,\n",
        "    \"오른쪽\": 4.0,\n",
        "    \"뒤\": 12.0  # 후방 센서 추가\n",
        "}\n",
        "# 안전 거리 설정\n",
        "safe_distance = 10.0\n",
        "# 차량 정보\n",
        "car_info = {\"속도\": 50, \"연료\": 85}\n",
        "print(\"🚗 자율주행 장애물 감지 시스템\")\n",
        "print(\"-\" * 40)\n",
        "# 위험도 계산 함수\n",
        "def get_risk_level(distance):\n",
        "    if distance < safe_distance:\n",
        "        return \"⚠️ 위험\"\n",
        "    else:\n",
        "        return \"✅ 안전\"\n",
        "# 각 방향별 상태 출력\n",
        "print(\"📡 센서 상태:\")\n",
        "risk_areas = []  # 위험 지역 리스트\n",
        "for direction, distance in sensors.items():\n",
        "    risk = get_risk_level(distance)\n",
        "    print(f\"{direction}: {distance}m {risk}\")\n",
        "        # 위험한 곳만 따로 저장\n",
        "    if \"위험\" in risk:\n",
        "        risk_areas.append(direction)\n",
        "print(f\"\\n🚨 위험 감지: {risk_areas}\")\n",
        "\n",
        "# 최소 거리로 속도 조절\n",
        "min_distance = min(sensors.values())\n",
        "if min_distance < safe_distance:\n",
        "    new_speed = car_info[\"속도\"] // 2  # 반으로 감속\n",
        "else:\n",
        "    new_speed = car_info[\"속도\"]  # 유지\n",
        "print(f\"🏃 속도: {car_info['속도']}km/h → {new_speed}km/h\")\n",
        "# 고급 행동 결정\n",
        "if not risk_areas:\n",
        "    action = \"직진\"\n",
        "elif \"앞\" in risk_areas:\n",
        "    # 좌우 중 더 안전한 쪽 선택\n",
        "    if \"왼쪽\" not in risk_areas and \"오른쪽\" not in risk_areas:\n",
        "        if sensors[\"왼쪽\"] > sensors[\"오른쪽\"]:\n",
        "            action = \"좌회전\"\n",
        "        else:\n",
        "            action = \"우회전\"\n",
        "    elif \"왼쪽\" not in risk_areas:\n",
        "        action = \"좌회전\"\n",
        "    elif \"오른쪽\" not in risk_areas:\n",
        "        action = \"우회전\"\n",
        "    else:\n",
        "        action = \"긴급정지\"\n",
        "else:\n",
        "    action = \"주의운전\"\n",
        "print(f\"🎯 결정된 행동: {action}\")"
      ],
      "metadata": {
        "id": "e1eE04106eJw"
      },
      "execution_count": null,
      "outputs": []
    },
    {
      "cell_type": "markdown",
      "source": [
        "3번 마지막에 추가해도 좋은 코드_1"
      ],
      "metadata": {
        "id": "gGs7cEaF_mn9"
      }
    },
    {
      "cell_type": "code",
      "source": [
        "# 숫자로 위험도 계산해서 행동 결정\n",
        "danger_score = 0\n",
        "if \"앞\" in risk_areas:\n",
        "    danger_score += 10\n",
        "if \"왼쪽\" in risk_areas:\n",
        "    danger_score += 5\n",
        "if \"오른쪽\" in risk_areas:\n",
        "    danger_score += 5\n",
        "if \"뒤\" in risk_areas:\n",
        "    danger_score += 1\n",
        "\n",
        "actions = [\"직진\", \"주의운전\", \"좌회전\", \"우회전\", \"긴급정지\"]\n",
        "action_index = min(danger_score // 3, len(actions) - 1)\n",
        "action = actions[action_index]\n",
        "\n",
        "print(f\"🎯 결정된 행동: {action}\")"
      ],
      "metadata": {
        "id": "YXRMeQd6_nM5"
      },
      "execution_count": null,
      "outputs": []
    },
    {
      "cell_type": "markdown",
      "source": [
        "1️⃣ 3번 마지막에 추가해도 좋은 코드_2   while문 + break 사용 고급행동결정 if 문장"
      ],
      "metadata": {
        "id": "NOxXvOvS-xmo"
      }
    },
    {
      "cell_type": "code",
      "source": [
        "# 고급 행동 결정\n",
        "if not risk_areas:\n",
        "    action = \"직진\"\n",
        "elif \"앞\" in risk_areas:\n",
        "    # 좌우 중 더 안전한 쪽 선택\n",
        "    if \"왼쪽\" not in risk_areas and \"오른쪽\" not in risk_areas:\n",
        "        if sensors[\"왼쪽\"] > sensors[\"오른쪽\"]:\n",
        "            action = \"좌회전\"\n",
        "        else:\n",
        "            action = \"우회전\"\n",
        "    elif \"왼쪽\" not in risk_areas:\n",
        "        action = \"좌회전\"\n",
        "    elif \"오른쪽\" not in risk_areas:\n",
        "        action = \"우회전\"\n",
        "    else:\n",
        "        action = \"긴급정지\"\n",
        "else:\n",
        "    action = \"주의운전\"\n",
        "\n",
        "print(f\"🎯 결정된 행동: {action}\")\n"
      ],
      "metadata": {
        "id": "fG0JnyDg-yNt"
      },
      "execution_count": null,
      "outputs": []
    },
    {
      "cell_type": "markdown",
      "source": [
        "2️⃣ 딕셔너리 + 함수 사용 고급행동결정\n",
        "3번 마지막에 추가해도 좋은 코드_3"
      ],
      "metadata": {
        "id": "pLPeWx3A-34p"
      }
    },
    {
      "cell_type": "code",
      "source": [
        "# while문으로 행동 결정\n",
        "action = \"\"\n",
        "step = 1\n",
        "\n",
        "while step <= 3:\n",
        "    if step == 1 and not risk_areas:\n",
        "        action = \"직진\"\n",
        "        break\n",
        "    elif step == 2 and \"앞\" in risk_areas:\n",
        "        if \"왼쪽\" not in risk_areas:\n",
        "            action = \"좌회전\"\n",
        "        elif \"오른쪽\" not in risk_areas:\n",
        "            action = \"우회전\"\n",
        "        else:\n",
        "            action = \"긴급정지\"\n",
        "        break\n",
        "    elif step == 3:\n",
        "        action = \"주의운전\"\n",
        "        break\n",
        "    step += 1\n",
        "\n",
        "print(f\"🎯 결정된 행동: {action}\")"
      ],
      "metadata": {
        "id": "ApjsrfGk-_sI"
      },
      "execution_count": null,
      "outputs": []
    }
  ]
}